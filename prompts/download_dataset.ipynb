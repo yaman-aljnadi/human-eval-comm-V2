{
 "cells": [
  {
   "cell_type": "code",
   "execution_count": 3,
   "id": "a4d2644e",
   "metadata": {},
   "outputs": [],
   "source": [
    "from datasets import load_dataset\n",
    "humanevalcomm = load_dataset(\"jie-jw-wu/HumanEvalComm\")"
   ]
  },
  {
   "cell_type": "code",
   "execution_count": 26,
   "id": "36f5ad4d",
   "metadata": {},
   "outputs": [
    {
     "data": {
      "text/plain": [
       "DatasetDict({\n",
       "    train: Dataset({\n",
       "        features: ['entry_point', 'name', 'prompt', 'prompt1a', 'prompt1c', 'prompt1p', 'prompt2ac', 'prompt2ap', 'prompt2cp', 'prompt3acp', 'solution', 'test_case'],\n",
       "        num_rows: 164\n",
       "    })\n",
       "})"
      ]
     },
     "execution_count": 26,
     "metadata": {},
     "output_type": "execute_result"
    }
   ],
   "source": [
    "humanevalcomm"
   ]
  },
  {
   "cell_type": "code",
   "execution_count": 27,
   "id": "69e111bc",
   "metadata": {},
   "outputs": [
    {
     "data": {
      "text/plain": [
       "{'entry_point': 'has_close_elements',\n",
       " 'name': 'HumanEval/0',\n",
       " 'prompt': 'from typing import List\\n\\n\\ndef has_close_elements(numbers: List[float], threshold: float) -> bool:\\n    \"\"\" Check if in given list of numbers, are any two numbers closer to each other than\\n    given threshold.\\n    >>> has_close_elements([1.0, 2.0, 3.0], 0.5)\\n    False\\n    >>> has_close_elements([1.0, 2.8, 3.0, 4.0, 5.0, 2.0], 0.3)\\n    True\\n    \"\"\"\\n',\n",
       " 'prompt1a': 'from typing import List\\n\\n\\ndef candidate(numbers: List[float], threshold: float) -> bool:\\n    \"\"\" Check if in given list of numbers, are any two numbers meeting a certain condition (e.g. closer to or larger than each other than\\n    given threshold).\\n    >>> candidate([1.0, 2.0, 3.0], 0.5)\\n    False\\n    >>> candidate([1.0, 2.8, 3.0, 4.0, 5.0, 2.0], 0.3)\\n    True\\n    \"\"\"\\n',\n",
       " 'prompt1c': 'from typing import List\\n\\n\\ndef has_close_elements(numbers: List[float], threshold: float) -> bool:\\n    \"\"\" Check if in given list of numbers, are any two numbers larger than each other than\\n    given threshold.\\n    >>> has_close_elements([1.0, 2.0, 3.0], 0.5)\\n    False\\n    >>> has_close_elements([1.0, 2.8, 3.0, 4.0, 5.0, 2.0], 0.3)\\n    True\\n    \"\"\"\\n',\n",
       " 'prompt1p': 'from typing import List\\n\\n\\ndef candidate(...) -> bool:\\n \"\"\" Check given a list of number.\"\"\"\\n',\n",
       " 'prompt2ac': 'from typing import List\\n\\n\\ndef candidate(numbers: List[float], threshold: float) -> bool:\\n    \"\"\" Check if in given list of numbers, are any two numbers meeting a certain condition (e.g. closer to or larger than each other than\\n    given threshold).\\n    >>> candidate([1.0, 2.0, 3.0], 0.5)\\n    True\\n    >>> candidate([1.0, 2.8, 3.0, 4.0, 5.0, 2.0], 0.3)\\n    False\\n    \"\"\"\\n',\n",
       " 'prompt2ap': 'from typing import List\\n\\n\\ndef candidate(numbers: List[float], x: float) -> bool:\\n \"\"\" given a list of number.\"\"\"\\n',\n",
       " 'prompt2cp': None,\n",
       " 'prompt3acp': None,\n",
       " 'solution': 'from typing import List\\n\\n\\ndef has_close_elements(numbers: List[float], threshold: float) -> bool:\\n    \"\"\" Check if in given list of numbers, are any two numbers closer to each other than\\n    given threshold.\\n    >>> has_close_elements([1.0, 2.0, 3.0], 0.5)\\n    False\\n    >>> has_close_elements([1.0, 2.8, 3.0, 4.0, 5.0, 2.0], 0.3)\\n    True\\n    \"\"\"\\n    for idx, elem in enumerate(numbers):\\n        for idx2, elem2 in enumerate(numbers):\\n            if idx != idx2:\\n                distance = abs(elem - elem2)\\n                if distance < threshold:\\n                    return True\\n\\n    return False\\n',\n",
       " 'test_case': \"[{'input': '[1.0, 2.0, 3.9, 4.0, 5.0, 2.2], 0.3', 'output': 'True', 'relation': '=='}, {'input': '[1.0, 2.0, 3.9, 4.0, 5.0, 2.2], 0.05', 'output': 'False', 'relation': '=='}, {'input': '[1.0, 2.0, 5.9, 4.0, 5.0], 0.95', 'output': 'True', 'relation': '=='}, {'input': '[1.0, 2.0, 5.9, 4.0, 5.0], 0.8', 'output': 'False', 'relation': '=='}, {'input': '[1.0, 2.0, 3.0, 4.0, 5.0, 2.0], 0.1', 'output': 'True', 'relation': '=='}, {'input': '[1.1, 2.2, 3.1, 4.1, 5.1], 1.0', 'output': 'True', 'relation': '=='}, {'input': '[1.1, 2.2, 3.1, 4.1, 5.1], 0.5', 'output': 'False', 'relation': '=='}]\"}"
      ]
     },
     "execution_count": 27,
     "metadata": {},
     "output_type": "execute_result"
    }
   ],
   "source": [
    "humanevalcomm['train'][0]"
   ]
  },
  {
   "cell_type": "code",
   "execution_count": 28,
   "id": "bea625c7",
   "metadata": {},
   "outputs": [
    {
     "name": "stdout",
     "output_type": "stream",
     "text": [
      "\n",
      "def generate_integers(a, b):\n",
      "    \"\"\"\n",
      "    Given two positive integers a and b, return the even digits between a\n",
      "    and b, in ascending order.\n",
      "\n",
      "    For example:\n",
      "    generate_integers(2, 8) => [2, 4, 6, 8]\n",
      "    generate_integers(8, 2) => [2, 4, 6, 8]\n",
      "    generate_integers(10, 14) => []\n",
      "    \"\"\"\n",
      "\n"
     ]
    }
   ],
   "source": [
    "print(humanevalcomm['train'][163]['prompt']) "
   ]
  },
  {
   "cell_type": "code",
   "execution_count": null,
   "id": "6e899c1a",
   "metadata": {},
   "outputs": [
    {
     "name": "stdout",
     "output_type": "stream",
     "text": [
      "\n",
      "def generate_integers(a, b):\n",
      "    \"\"\"\n",
      "    Given two positive integers a and b, return the odd or even digits between a\n",
      "    and b, in descending or ascending order.\n",
      "\n",
      "    For example:\n",
      "    generate_integers(2, 8) => [2, 4, 6, 8]\n",
      "    generate_integers(8, 2) => [2, 4, 6, 8]\n",
      "    generate_integers(10, 14) => []\n",
      "    \"\"\"\n",
      "\n"
     ]
    }
   ],
   "source": [
    "print(humanevalcomm['train'][163]['prompt1a'])"
   ]
  },
  {
   "cell_type": "code",
   "execution_count": null,
   "id": "0cd1434e",
   "metadata": {},
   "outputs": [],
   "source": []
  }
 ],
 "metadata": {
  "kernelspec": {
   "display_name": "LLM",
   "language": "python",
   "name": "python3"
  },
  "language_info": {
   "codemirror_mode": {
    "name": "ipython",
    "version": 3
   },
   "file_extension": ".py",
   "mimetype": "text/x-python",
   "name": "python",
   "nbconvert_exporter": "python",
   "pygments_lexer": "ipython3",
   "version": "3.12.11"
  }
 },
 "nbformat": 4,
 "nbformat_minor": 5
}
