{
 "cells": [
  {
   "cell_type": "code",
   "execution_count": 11,
   "id": "58b233ed",
   "metadata": {},
   "outputs": [],
   "source": [
    "import json\n",
    "\n",
    "data = json.load(open(\"LOGS/idx_0__1p.json\", \"r\"))"
   ]
  },
  {
   "cell_type": "code",
   "execution_count": 12,
   "id": "6165be58",
   "metadata": {},
   "outputs": [
    {
     "name": "stdout",
     "output_type": "stream",
     "text": [
      "None\n"
     ]
    }
   ],
   "source": [
    "print(data[\"extracted_code\"])"
   ]
  },
  {
   "cell_type": "code",
   "execution_count": 14,
   "id": "c4fc20c2",
   "metadata": {},
   "outputs": [
    {
     "name": "stdout",
     "output_type": "stream",
     "text": [
      "The description \"Check given a list of number\" is too broad. Could you please specify **what condition** the `candidate` function should check for in the list of numbers to return `True` or `False`?\n",
      "\n",
      "For example:\n",
      "*   Should it check if all numbers are positive?\n",
      "*   Should it check if the list contains any duplicates?\n",
      "*   Should it check if the list is sorted in ascending order?\n",
      "*   Should it check if the sum of numbers is greater than a certain value?\n",
      "*   Should it check if the list is empty?\n",
      "\n",
      "Please provide more details about the specific check required.\n"
     ]
    }
   ],
   "source": [
    "print(data[\"generated_text\"])"
   ]
  },
  {
   "cell_type": "code",
   "execution_count": 13,
   "id": "93b508b0",
   "metadata": {},
   "outputs": [
    {
     "name": "stdout",
     "output_type": "stream",
     "text": [
      "from typing import List\n",
      "\n",
      "\n",
      "def candidate(...) -> bool:\n",
      " \"\"\" Check given a list of number.\"\"\"\n",
      "\n"
     ]
    }
   ],
   "source": [
    "print(data[\"prompt_text\"])"
   ]
  },
  {
   "cell_type": "code",
   "execution_count": 6,
   "id": "45e019c4",
   "metadata": {},
   "outputs": [],
   "source": [
    "from typing import List\n",
    "\n",
    "\n",
    "def candidate(numbers: List[float], threshold: float) -> bool:\n",
    "    \"\"\" Check if in the given list of numbers, there are any two numbers\n",
    "    whose absolute difference is strictly less than the given threshold.\n",
    "\n",
    "    This means we are looking for a pair of numbers (x, y) from the list\n",
    "    such that abs(x - y) < threshold.\n",
    "\n",
    "    The original problem statement included an ambiguous phrase \"or larger than each other than given threshold\".\n",
    "    Based on the provided examples, the intended condition is clearly `abs(x - y) < threshold`.\n",
    "\n",
    "    Examples:\n",
    "    >>> candidate([1.0, 2.0, 3.0], 0.5)\n",
    "    False\n",
    "    >>> candidate([1.0, 2.8, 3.0, 4.0, 5.0, 2.0], 0.3)\n",
    "    True\n",
    "    >>> candidate([], 1.0)\n",
    "    False\n",
    "    >>> candidate([5.0], 1.0)\n",
    "    False\n",
    "    >>> candidate([1.0, 1.00001], 0.001)\n",
    "    True\n",
    "    >>> candidate([1.0, 2.0, 3.0], 1.0)\n",
    "    False\n",
    "    >>> candidate([1.0, 1.9, 3.0], 1.0)\n",
    "    True\n",
    "    \"\"\"\n",
    "    n = len(numbers)\n",
    "    if n < 2:\n",
    "        # Cannot form a pair with less than two numbers\n",
    "        return False\n",
    "\n",
    "    # Sort the list to efficiently check for close numbers.\n",
    "    # If two numbers are close, they will be adjacent or near-adjacent\n",
    "    # in a sorted list. Sorting takes O(N log N) time.\n",
    "    sorted_numbers = sorted(numbers)\n",
    "\n",
    "    # Iterate through the sorted list. For each number at index 'i',\n",
    "    # check numbers at index 'j' where j > i.\n",
    "    # This nested loop structure will find all unique pairs.\n",
    "    # In the worst case, this loop takes O(N^2) time, but with the\n",
    "    # optimization below, it can be much faster if numbers are spread out.\n",
    "    for i in range(n - 1):\n",
    "        for j in range(i + 1, n):\n",
    "            # Since the list is sorted, sorted_numbers[j] will always be\n",
    "            # greater than or equal to sorted_numbers[i].\n",
    "            # Therefore, abs(sorted_numbers[j] - sorted_numbers[i])\n",
    "            # simplifies to sorted_numbers[j] - sorted_numbers[i].\n",
    "            diff = sorted_numbers[j] - sorted_numbers[i]\n",
    "\n",
    "            if diff < threshold:\n",
    "                # Found a pair meeting the condition\n",
    "                return True\n",
    "\n",
    "            # Optimization: If the difference between sorted_numbers[i] and\n",
    "            # sorted_numbers[j] is already greater than or equal to the threshold,\n",
    "            # then for any k > j, sorted_numbers[k] - sorted_numbers[i] will also\n",
    "            # be greater than or equal to `diff` (and thus >= threshold)\n",
    "            # because the list is sorted.\n",
    "            # So, there's no need to check further 'j' values for the current 'i'.\n",
    "            if diff >= threshold:\n",
    "                break # Move to the next 'i'\n",
    "\n",
    "    # If no such pair is found after checking all combinations\n",
    "    return False"
   ]
  },
  {
   "cell_type": "code",
   "execution_count": null,
   "id": "d4d2cc6c",
   "metadata": {},
   "outputs": [
    {
     "data": {
      "text/plain": [
       "True"
      ]
     },
     "execution_count": 8,
     "metadata": {},
     "output_type": "execute_result"
    }
   ],
   "source": []
  },
  {
   "cell_type": "code",
   "execution_count": 1,
   "id": "41b50ca2",
   "metadata": {},
   "outputs": [
    {
     "name": "stdout",
     "output_type": "stream",
     "text": [
      "The meaning of life is a deeply subjective and multifaceted question, explored through various lenses:\n",
      "\n",
      "1. **Religious/Spiritual**: Many religions posit a transcendent purpose, such as serving a deity, achieving enlightenment, or adhering to moral principles (e.g., Christianity's love, Buddhism's liberation from suffering).\n",
      "\n",
      "2. **Philosophical**: \n",
      "   - **Existentialism**: Life has no inherent meaning; individuals must create their own through choices, passions, and commitments (e.g., Sartre, Camus' \"embracing the absurd\").\n",
      "   - **Nihilism**: Rejects inherent meaning, challenging individuals to confront a universe indifferent to human concerns.\n",
      "   - **Utilitarianism/Humanism**: Purpose lies in maximizing well-being, fostering progress, or contributing to collective flourishing.\n",
      "\n",
      "3. **Scientific/Biological**: From an evolutionary perspective, life's \"purpose\" may revolve around survival, reproduction, and the propagation of genes. However, this narrow view often feels insufficient for addressing human consciousness and culture.\n",
      "\n",
      "4. **Cultural/Individual**: \n",
      "   - Eastern philosophies (e.g., Taoism, Confucianism) emphasize harmony, duty, or balance.\n",
      "   - Personal fulfillment through relationships, creativity, knowledge, or legacy is a common theme across cultures.\n",
      "\n",
      "5. **Absurdism**: Camus suggests that life's inherent lack of meaning is not a flaw but a catalyst for living authentically and passionately despite uncertainty.\n",
      "\n",
      "**Conclusion**: There is no universal answer. The meaning of life is often a blend of self-determined purpose (passions, relationships, growth) and broader contributions (to community, knowledge, or future generations). It invites introspection, embracing uncertainty, and finding value in the journey itself.\n"
     ]
    }
   ],
   "source": [
    "from openai import OpenAI\n",
    "\n",
    "client = OpenAI(\n",
    "  base_url=\"https://openrouter.ai/api/v1\",\n",
    "  api_key=\"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\",\n",
    ")\n",
    "\n",
    "completion = client.chat.completions.create(\n",
    "  extra_headers={\n",
    "    \"HTTP-Referer\": \"<YOUR_SITE_URL>\", # Optional. Site URL for rankings on openrouter.ai.\n",
    "    \"X-Title\": \"<YOUR_SITE_NAME>\", # Optional. Site title for rankings on openrouter.ai.\n",
    "  },\n",
    "  extra_body={},\n",
    "  model=\"deepseek/deepseek-r1:free\",\n",
    "  messages=[\n",
    "    {\n",
    "      \"role\": \"user\",\n",
    "      \"content\": \"What is the meaning of life?\"\n",
    "    }\n",
    "  ]\n",
    ")\n",
    "print(completion.choices[0].message.content)"
   ]
  },
  {
   "cell_type": "code",
   "execution_count": null,
   "id": "d9a0e934",
   "metadata": {},
   "outputs": [],
   "source": []
  },
  {
   "cell_type": "code",
   "execution_count": null,
   "id": "0f3ba1db",
   "metadata": {},
   "outputs": [],
   "source": []
  }
 ],
 "metadata": {
  "kernelspec": {
   "display_name": "LLM",
   "language": "python",
   "name": "python3"
  },
  "language_info": {
   "codemirror_mode": {
    "name": "ipython",
    "version": 3
   },
   "file_extension": ".py",
   "mimetype": "text/x-python",
   "name": "python",
   "nbconvert_exporter": "python",
   "pygments_lexer": "ipython3",
   "version": "3.12.11"
  }
 },
 "nbformat": 4,
 "nbformat_minor": 5
}
